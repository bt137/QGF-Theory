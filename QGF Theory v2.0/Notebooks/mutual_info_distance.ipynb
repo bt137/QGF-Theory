{
 "cells": [
  {
   "cell_type": "markdown",
   "id": "8cff22bb-cc8a-4318-9b28-82dc442e0bb3",
   "metadata": {},
   "source": [
    "# Distance from Normalized Mutual Information in QGF\n",
    "\n",
    "This notebook reconstructs a distance matrix from categorical mutual information using \\( d(i,j) = -\\log I(i,j) \\),  \n",
    "then verifies metric properties (symmetry, positivity, triangle inequality) as discussed in Section 2.3 and Appendix F.\n"
   ]
  },
  {
   "cell_type": "code",
   "execution_count": 5,
   "id": "aa666035-8e4c-4d87-b658-699b21684f2a",
   "metadata": {},
   "outputs": [],
   "source": [
    "import pandas as pd\n",
    "import numpy as np\n",
    "import matplotlib.pyplot as plt\n",
    "import seaborn as sns\n"
   ]
  },
  {
   "cell_type": "code",
   "execution_count": 6,
   "id": "8b5d26d1-83ce-499f-a49d-b0aac557fe79",
   "metadata": {},
   "outputs": [
    {
     "data": {
      "text/html": [
       "<div>\n",
       "<style scoped>\n",
       "    .dataframe tbody tr th:only-of-type {\n",
       "        vertical-align: middle;\n",
       "    }\n",
       "\n",
       "    .dataframe tbody tr th {\n",
       "        vertical-align: top;\n",
       "    }\n",
       "\n",
       "    .dataframe thead th {\n",
       "        text-align: right;\n",
       "    }\n",
       "</style>\n",
       "<table border=\"1\" class=\"dataframe\">\n",
       "  <thead>\n",
       "    <tr style=\"text-align: right;\">\n",
       "      <th></th>\n",
       "      <th>0</th>\n",
       "      <th>1</th>\n",
       "      <th>2</th>\n",
       "    </tr>\n",
       "  </thead>\n",
       "  <tbody>\n",
       "    <tr>\n",
       "      <th>0</th>\n",
       "      <td>-0.000000</td>\n",
       "      <td>0.510826</td>\n",
       "      <td>0.916291</td>\n",
       "    </tr>\n",
       "    <tr>\n",
       "      <th>1</th>\n",
       "      <td>0.510826</td>\n",
       "      <td>-0.000000</td>\n",
       "      <td>0.693147</td>\n",
       "    </tr>\n",
       "    <tr>\n",
       "      <th>2</th>\n",
       "      <td>0.916291</td>\n",
       "      <td>0.693147</td>\n",
       "      <td>-0.000000</td>\n",
       "    </tr>\n",
       "  </tbody>\n",
       "</table>\n",
       "</div>"
      ],
      "text/plain": [
       "          0         1         2\n",
       "0 -0.000000  0.510826  0.916291\n",
       "1  0.510826 -0.000000  0.693147\n",
       "2  0.916291  0.693147 -0.000000"
      ]
     },
     "execution_count": 6,
     "metadata": {},
     "output_type": "execute_result"
    }
   ],
   "source": [
    "# Load distance matrix (already -log(I))\n",
    "distance_df = pd.read_csv(\"../data/QGF_Distance_Matrix_from_Normalized_Mutual_Information.csv\", index_col=0)\n",
    "distance_df\n"
   ]
  },
  {
   "cell_type": "code",
   "execution_count": 7,
   "id": "b2df260a-92c4-41df-b02b-3d03503f6ceb",
   "metadata": {},
   "outputs": [
    {
     "data": {
      "image/png": "[encoded data removed]",
      "text/plain": [
       "<Figure size 600x500 with 2 Axes>"
      ]
     },
     "metadata": {},
     "output_type": "display_data"
    }
   ],
   "source": [
    "# Visualize distance matrix as heatmap\n",
    "\n",
    "plt.figure(figsize=(6, 5))\n",
    "sns.heatmap(distance_df, annot=True, fmt=\".2f\", cmap=\"viridis\", square=True)\n",
    "plt.title(\"QGF Distance Matrix from -log(I)\")\n",
    "plt.xlabel(\"j\")\n",
    "plt.ylabel(\"i\")\n",
    "plt.tight_layout()\n",
    "plt.show()\n"
   ]
  },
  {
   "cell_type": "code",
   "execution_count": 8,
   "id": "e71014e6-62f5-44fd-a69d-ec3eb0bd305f",
   "metadata": {},
   "outputs": [
    {
     "name": "stdout",
     "output_type": "stream",
     "text": [
      "Triangle inequality violations: 0\n"
     ]
    }
   ],
   "source": [
    "# Check triangle inequality: d(i,k) ≤ d(i,j) + d(j,k)\n",
    "\n",
    "violations = []\n",
    "n = distance_df.shape[0]\n",
    "\n",
    "for i in range(n):\n",
    "    for j in range(n):\n",
    "        for k in range(n):\n",
    "            lhs = distance_df.iloc[i, k]\n",
    "            rhs = distance_df.iloc[i, j] + distance_df.iloc[j, k]\n",
    "            if lhs > rhs + 1e-6:\n",
    "                violations.append((i, j, k, lhs, rhs))\n",
    "\n",
    "print(\"Triangle inequality violations:\", len(violations))\n",
    "if violations:\n",
    "    print(\"Example violation:\", violations[0])\n"
   ]
  },
  {
   "cell_type": "markdown",
   "id": "1619df40-2850-40a4-9e5f-6594ce26607a",
   "metadata": {},
   "source": [
    "The metric derived from mutual information satisfies symmetry, positivity, and triangle inequality for all tested triplets.  \n",
    "This supports the interpretation of QGF entanglement geometry as an emergent metric space.\n"
   ]
  }
 ],
 "metadata": {
  "kernelspec": {
   "display_name": "Python 3 (ipykernel)",
   "language": "python",
   "name": "python3"
  },
  "language_info": {
   "codemirror_mode": {
    "name": "ipython",
    "version": 3
   },
   "file_extension": ".py",
   "mimetype": "text/x-python",
   "name": "python",
   "nbconvert_exporter": "python",
   "pygments_lexer": "ipython3",
   "version": "3.9.6"
  }
 },
 "nbformat": 4,
 "nbformat_minor": 5
}
